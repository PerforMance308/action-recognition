{
 "cells": [
  {
   "cell_type": "code",
   "execution_count": 1,
   "metadata": {},
   "outputs": [],
   "source": [
    "import os\n",
    "import numpy as np\n",
    "import cv2 \n",
    "from PIL import Image\n",
    "import scipy.io as sio\n",
    "from sklearn import preprocessing"
   ]
  },
  {
   "cell_type": "code",
   "execution_count": 6,
   "metadata": {},
   "outputs": [],
   "source": [
    "for c in classes:\n",
    "    i = 0\n",
    "    for r, d, f in os.walk('./data/matdata'):\n",
    "        for file in f:\n",
    "            t = file.split('_')[0]\n",
    "            if t == c:\n",
    "                i = i + 1\n",
    "                os.rename(os.path.join(r, file), './data/matdata/' + c + \"_{:03}\".format(i) + '.mat') "
   ]
  },
  {
   "cell_type": "code",
   "execution_count": 2,
   "metadata": {},
   "outputs": [],
   "source": [
    "def load_value_file(file_path):\n",
    "    with open(file_path, 'r') as input_file:\n",
    "        value = float(input_file.read().rstrip('\\n\\r'))\n",
    "\n",
    "    return value\n",
    "\n",
    "def load(files):\n",
    "    imgs = []\n",
    "    for file in files:\n",
    "        img = cv2.imread(file)\n",
    "        imgs.append(img)\n",
    "    return np.asarray(imgs)\n",
    "        \n",
    "def save(imgs, targe, index, label):\n",
    "    imgs = imgs.reshape(imgs.shape[0], 28*28*3)\n",
    "    min_max_scaler = preprocessing.MinMaxScaler(feature_range=(-1, 1))\n",
    "    imgs = min_max_scaler.fit_transform(imgs.T).transpose()\n",
    "    labels = []\n",
    "    for i in range(imgs.shape[0]):\n",
    "        labels.append(label)\n",
    "    \n",
    "    labels = np.asarray(labels)\n",
    "    labels = labels.reshape(labels.shape[0], 1)\n",
    "    \n",
    "    data = np.concatenate((labels, imgs), axis = 1)\n",
    "    info = {}\n",
    "    info['data'] = data\n",
    "    savefile = './data/matdata/' + targe + '_{0:05}.mat'\n",
    "    sio.savemat(savefile.format(index), info)\n",
    "    \n",
    "def transform(img, newsize):\n",
    "    image_width = img.size[0]\n",
    "    image_height = img.size[1]\n",
    "    min_length = min(image_width, image_height)\n",
    "    crop_size = int(min_length * 0.6)\n",
    "        \n",
    "    center_x = image_width // 2\n",
    "    center_y = image_height // 2\n",
    "    box_half = crop_size // 2\n",
    "    x1 = center_x - box_half\n",
    "    y1 = center_y - box_half\n",
    "    x2 = center_x + box_half\n",
    "    y2 = center_y + box_half\n",
    "    img = img.crop((x1, y1, x2, y2))\n",
    "    return img.resize((newsize, newsize), Image.BILINEAR)\n",
    "        \n",
    "def transforms(imgs, newsize):\n",
    "    for img in imgs:\n",
    "        transform(img, newsize)"
   ]
  },
  {
   "cell_type": "code",
   "execution_count": 3,
   "metadata": {},
   "outputs": [],
   "source": [
    "path = './data/data/ucf101/jpg/'\n",
    "\n",
    "folders = []\n",
    "for r, d, f in os.walk(path):\n",
    "    for folder in d:\n",
    "        if 'v_' in folder:\n",
    "            folders.append(os.path.join(r, folder))"
   ]
  },
  {
   "cell_type": "code",
   "execution_count": 4,
   "metadata": {},
   "outputs": [],
   "source": [
    "classes = []\n",
    "for folder in folders:\n",
    "    targe = folder.split('/')[5]\n",
    "    if not targe in classes:\n",
    "        classes.append(targe)"
   ]
  },
  {
   "cell_type": "code",
   "execution_count": 5,
   "metadata": {},
   "outputs": [
    {
     "name": "stderr",
     "output_type": "stream",
     "text": [
      "/usr/lib/python3/dist-packages/sklearn/utils/validation.py:475: DataConversionWarning: Data with input dtype uint8 was converted to float64 by MinMaxScaler.\n",
      "  warnings.warn(msg, DataConversionWarning)\n"
     ]
    }
   ],
   "source": [
    "index = 0\n",
    "for folder in folders:\n",
    "    fs = []\n",
    "    for r, d, f in os.walk(folder):\n",
    "        for file in f:\n",
    "            if 'n_frames' in file:\n",
    "                n_frames = int(load_value_file(os.path.join(r, file)))\n",
    "    for i in range(1, n_frames + 1):\n",
    "        file = os.path.join(folder, 'image_0{0:04}.jpg'.format(i))\n",
    "        fs.append(file)\n",
    "    targe = folder.split('/')[5]\n",
    "    label = classes.index(targe)\n",
    "    data = load(fs)\n",
    "    save(data, targe, index, label)\n",
    "    index = index + 1"
   ]
  },
  {
   "cell_type": "code",
   "execution_count": null,
   "metadata": {},
   "outputs": [],
   "source": []
  }
 ],
 "metadata": {
  "kernelspec": {
   "display_name": "Python 3",
   "language": "python",
   "name": "python3"
  },
  "language_info": {
   "codemirror_mode": {
    "name": "ipython",
    "version": 3
   },
   "file_extension": ".py",
   "mimetype": "text/x-python",
   "name": "python",
   "nbconvert_exporter": "python",
   "pygments_lexer": "ipython3",
   "version": "3.6.8"
  }
 },
 "nbformat": 4,
 "nbformat_minor": 2
}
